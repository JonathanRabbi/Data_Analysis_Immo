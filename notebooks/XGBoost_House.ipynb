{
 "cells": [
  {
   "cell_type": "code",
   "execution_count": 321,
   "metadata": {},
   "outputs": [],
   "source": [
    "import pandas as pd\n",
    "import numpy as np\n",
    "import matplotlib.pyplot as plt"
   ]
  },
  {
   "cell_type": "code",
   "execution_count": 322,
   "metadata": {},
   "outputs": [],
   "source": [
    "df = pd.read_csv('/Users/jonathanrabbi/Desktop/Data_Analysis_Immo/CSV_Files/Cat_House_details.csv')"
   ]
  },
  {
   "cell_type": "code",
   "execution_count": 323,
   "metadata": {},
   "outputs": [],
   "source": [
    "df_House=df[df['Type of property']=='house']\n",
    "\n",
    "X= df_House[['Bedrooms','Bathrooms','Toilets','Surface of the plot']]\n",
    "\n",
    "y= df_House['Price']"
   ]
  },
  {
   "cell_type": "code",
   "execution_count": 324,
   "metadata": {},
   "outputs": [],
   "source": [
    "from sklearn.model_selection import train_test_split\n",
    "\n",
    "X_train, X_test, y_train, y_test = train_test_split(X,y,test_size=0.3)"
   ]
  },
  {
   "cell_type": "code",
   "execution_count": 325,
   "metadata": {},
   "outputs": [],
   "source": [
    "from xgboost import XGBRegressor\n",
    "\n",
    "xg_reg=XGBRegressor()"
   ]
  },
  {
   "cell_type": "code",
   "execution_count": 326,
   "metadata": {},
   "outputs": [
    {
     "data": {
      "text/html": [
       "<style>#sk-container-id-22 {color: black;}#sk-container-id-22 pre{padding: 0;}#sk-container-id-22 div.sk-toggleable {background-color: white;}#sk-container-id-22 label.sk-toggleable__label {cursor: pointer;display: block;width: 100%;margin-bottom: 0;padding: 0.3em;box-sizing: border-box;text-align: center;}#sk-container-id-22 label.sk-toggleable__label-arrow:before {content: \"▸\";float: left;margin-right: 0.25em;color: #696969;}#sk-container-id-22 label.sk-toggleable__label-arrow:hover:before {color: black;}#sk-container-id-22 div.sk-estimator:hover label.sk-toggleable__label-arrow:before {color: black;}#sk-container-id-22 div.sk-toggleable__content {max-height: 0;max-width: 0;overflow: hidden;text-align: left;background-color: #f0f8ff;}#sk-container-id-22 div.sk-toggleable__content pre {margin: 0.2em;color: black;border-radius: 0.25em;background-color: #f0f8ff;}#sk-container-id-22 input.sk-toggleable__control:checked~div.sk-toggleable__content {max-height: 200px;max-width: 100%;overflow: auto;}#sk-container-id-22 input.sk-toggleable__control:checked~label.sk-toggleable__label-arrow:before {content: \"▾\";}#sk-container-id-22 div.sk-estimator input.sk-toggleable__control:checked~label.sk-toggleable__label {background-color: #d4ebff;}#sk-container-id-22 div.sk-label input.sk-toggleable__control:checked~label.sk-toggleable__label {background-color: #d4ebff;}#sk-container-id-22 input.sk-hidden--visually {border: 0;clip: rect(1px 1px 1px 1px);clip: rect(1px, 1px, 1px, 1px);height: 1px;margin: -1px;overflow: hidden;padding: 0;position: absolute;width: 1px;}#sk-container-id-22 div.sk-estimator {font-family: monospace;background-color: #f0f8ff;border: 1px dotted black;border-radius: 0.25em;box-sizing: border-box;margin-bottom: 0.5em;}#sk-container-id-22 div.sk-estimator:hover {background-color: #d4ebff;}#sk-container-id-22 div.sk-parallel-item::after {content: \"\";width: 100%;border-bottom: 1px solid gray;flex-grow: 1;}#sk-container-id-22 div.sk-label:hover label.sk-toggleable__label {background-color: #d4ebff;}#sk-container-id-22 div.sk-serial::before {content: \"\";position: absolute;border-left: 1px solid gray;box-sizing: border-box;top: 0;bottom: 0;left: 50%;z-index: 0;}#sk-container-id-22 div.sk-serial {display: flex;flex-direction: column;align-items: center;background-color: white;padding-right: 0.2em;padding-left: 0.2em;position: relative;}#sk-container-id-22 div.sk-item {position: relative;z-index: 1;}#sk-container-id-22 div.sk-parallel {display: flex;align-items: stretch;justify-content: center;background-color: white;position: relative;}#sk-container-id-22 div.sk-item::before, #sk-container-id-22 div.sk-parallel-item::before {content: \"\";position: absolute;border-left: 1px solid gray;box-sizing: border-box;top: 0;bottom: 0;left: 50%;z-index: -1;}#sk-container-id-22 div.sk-parallel-item {display: flex;flex-direction: column;z-index: 1;position: relative;background-color: white;}#sk-container-id-22 div.sk-parallel-item:first-child::after {align-self: flex-end;width: 50%;}#sk-container-id-22 div.sk-parallel-item:last-child::after {align-self: flex-start;width: 50%;}#sk-container-id-22 div.sk-parallel-item:only-child::after {width: 0;}#sk-container-id-22 div.sk-dashed-wrapped {border: 1px dashed gray;margin: 0 0.4em 0.5em 0.4em;box-sizing: border-box;padding-bottom: 0.4em;background-color: white;}#sk-container-id-22 div.sk-label label {font-family: monospace;font-weight: bold;display: inline-block;line-height: 1.2em;}#sk-container-id-22 div.sk-label-container {text-align: center;}#sk-container-id-22 div.sk-container {/* jupyter's `normalize.less` sets `[hidden] { display: none; }` but bootstrap.min.css set `[hidden] { display: none !important; }` so we also need the `!important` here to be able to override the default hidden behavior on the sphinx rendered scikit-learn.org. See: https://github.com/scikit-learn/scikit-learn/issues/21755 */display: inline-block !important;position: relative;}#sk-container-id-22 div.sk-text-repr-fallback {display: none;}</style><div id=\"sk-container-id-22\" class=\"sk-top-container\"><div class=\"sk-text-repr-fallback\"><pre>XGBRegressor(base_score=None, booster=None, callbacks=None,\n",
       "             colsample_bylevel=None, colsample_bynode=None,\n",
       "             colsample_bytree=None, early_stopping_rounds=None,\n",
       "             enable_categorical=False, eval_metric=None, feature_types=None,\n",
       "             gamma=None, gpu_id=None, grow_policy=None, importance_type=None,\n",
       "             interaction_constraints=None, learning_rate=None, max_bin=None,\n",
       "             max_cat_threshold=None, max_cat_to_onehot=None,\n",
       "             max_delta_step=None, max_depth=None, max_leaves=None,\n",
       "             min_child_weight=None, missing=nan, monotone_constraints=None,\n",
       "             n_estimators=100, n_jobs=None, num_parallel_tree=None,\n",
       "             predictor=None, random_state=None, ...)</pre><b>In a Jupyter environment, please rerun this cell to show the HTML representation or trust the notebook. <br />On GitHub, the HTML representation is unable to render, please try loading this page with nbviewer.org.</b></div><div class=\"sk-container\" hidden><div class=\"sk-item\"><div class=\"sk-estimator sk-toggleable\"><input class=\"sk-toggleable__control sk-hidden--visually\" id=\"sk-estimator-id-22\" type=\"checkbox\" checked><label for=\"sk-estimator-id-22\" class=\"sk-toggleable__label sk-toggleable__label-arrow\">XGBRegressor</label><div class=\"sk-toggleable__content\"><pre>XGBRegressor(base_score=None, booster=None, callbacks=None,\n",
       "             colsample_bylevel=None, colsample_bynode=None,\n",
       "             colsample_bytree=None, early_stopping_rounds=None,\n",
       "             enable_categorical=False, eval_metric=None, feature_types=None,\n",
       "             gamma=None, gpu_id=None, grow_policy=None, importance_type=None,\n",
       "             interaction_constraints=None, learning_rate=None, max_bin=None,\n",
       "             max_cat_threshold=None, max_cat_to_onehot=None,\n",
       "             max_delta_step=None, max_depth=None, max_leaves=None,\n",
       "             min_child_weight=None, missing=nan, monotone_constraints=None,\n",
       "             n_estimators=100, n_jobs=None, num_parallel_tree=None,\n",
       "             predictor=None, random_state=None, ...)</pre></div></div></div></div></div>"
      ],
      "text/plain": [
       "XGBRegressor(base_score=None, booster=None, callbacks=None,\n",
       "             colsample_bylevel=None, colsample_bynode=None,\n",
       "             colsample_bytree=None, early_stopping_rounds=None,\n",
       "             enable_categorical=False, eval_metric=None, feature_types=None,\n",
       "             gamma=None, gpu_id=None, grow_policy=None, importance_type=None,\n",
       "             interaction_constraints=None, learning_rate=None, max_bin=None,\n",
       "             max_cat_threshold=None, max_cat_to_onehot=None,\n",
       "             max_delta_step=None, max_depth=None, max_leaves=None,\n",
       "             min_child_weight=None, missing=nan, monotone_constraints=None,\n",
       "             n_estimators=100, n_jobs=None, num_parallel_tree=None,\n",
       "             predictor=None, random_state=None, ...)"
      ]
     },
     "execution_count": 326,
     "metadata": {},
     "output_type": "execute_result"
    }
   ],
   "source": [
    "xg_reg.fit(X_train,y_train)"
   ]
  },
  {
   "cell_type": "code",
   "execution_count": 327,
   "metadata": {},
   "outputs": [
    {
     "data": {
      "text/plain": [
       "array([ 301742.97,  289739.66,  313357.12,  302794.06,  289739.66,\n",
       "        592843.2 ,  289739.66,  243052.31,  243052.31,  621626.56,\n",
       "        815198.3 ,  289739.66,  313394.66,  313394.66,  313394.66,\n",
       "        258426.88,  289739.66,  313357.12,  243052.31,  289739.66,\n",
       "        289739.66,  289739.66,  243052.31,  313394.66,  289739.66,\n",
       "        289739.66,  232604.4 ,  289739.66,  289739.66,  289739.66,\n",
       "        289739.66,  313394.66,  243052.31,  325131.4 ,  325131.4 ,\n",
       "        325131.4 ,  325131.4 ,  232604.4 ,  285301.03,  313394.66,\n",
       "        249262.31,  249262.31,  243052.31,  592843.2 ,  201588.12,\n",
       "        232604.4 ,  282913.28,  243052.31,  302794.06,  400369.12,\n",
       "        243052.31,  243052.31,  302794.06,  546004.1 ,  313357.12,\n",
       "        289739.66,  289739.66,  243052.31,  592843.2 ,  289739.66,\n",
       "        289739.66,  232604.4 ,  302794.06,  289739.66,  325131.4 ,\n",
       "        546004.1 ,  289739.66,  289739.66,  243052.31,  232604.4 ,\n",
       "        243052.31,  285301.03,  289739.66,  243052.31,  870101.8 ,\n",
       "        289739.66,  313394.66,  232604.4 ,  289739.66,  289739.66,\n",
       "        232604.4 ,  289739.66,  313394.66,  243052.31,  740017.4 ,\n",
       "        258426.88,  621626.56,  289739.66,  201588.12,  401020.38,\n",
       "        243052.31,  289739.66,  621626.56,  243052.31,  243052.31,\n",
       "        313394.66,  870101.8 ,  201588.12,  289739.66,  325131.4 ,\n",
       "        975007.1 ,  289739.66,  243052.31,  289739.66,  621626.56,\n",
       "        401020.38,  289739.66,  621626.56,  828474.3 ,  249262.31,\n",
       "        258426.88,  313394.66,  313394.66,  243052.31,  201588.12,\n",
       "        621626.56,  302794.06,  243052.31,  243052.31,  243052.31,\n",
       "        289739.66,  289739.66,  581042.9 ,  401020.38,  243052.31,\n",
       "        289739.66,  289739.66,  289739.66,  243052.31,  313357.12,\n",
       "       2207789.8 ,  289739.66,  289739.66,  723149.5 ,  243052.31,\n",
       "        401020.38,  289739.66,  302794.06,  621626.56,  723149.5 ,\n",
       "        519867.5 ,  289739.66,  313394.66,  723149.5 ,  243052.31,\n",
       "        401020.38,  289739.66,  313357.12,  289739.66,  289739.66,\n",
       "        289739.66,  243052.31,  289739.66,  289739.66,  302794.06,\n",
       "        243052.31,  243052.31,  289739.66,  313394.66,  243052.31,\n",
       "        289739.66,  243052.31,  232604.4 ,  289739.66,  302794.06,\n",
       "        258426.88,  289739.66,  313394.66,  302794.06,  313357.12,\n",
       "        519867.5 ,  289739.66,  313394.66,  243052.31,  289739.66,\n",
       "        301742.97,  282913.28,  243052.31,  289739.66,  313394.66,\n",
       "        289739.66,  289739.66,  289739.66,  289739.66,  289739.66,\n",
       "        243052.31,  289739.66,  285301.03,  289739.66,  289739.66,\n",
       "        302794.06,  243052.31,  243052.31,  261494.48,  261494.48,\n",
       "        313394.66,  243052.31,  289739.66,  289739.66,  313394.66,\n",
       "        401020.38,  302794.06,  289739.66,  401020.38,  318145.03,\n",
       "        325131.4 ,  313394.66,  289739.66,  243052.31,  289739.66,\n",
       "        313357.12,  289739.66,  289739.66,  289739.66,  232604.4 ,\n",
       "        285301.03,  313357.12,  285301.03,  289739.66,  302794.06,\n",
       "        621626.56,  325131.4 ,  313394.66,  249262.31,  289739.66,\n",
       "        302794.06,  289739.66,  401020.38,  289739.66,  313394.66,\n",
       "        258426.88,  289739.66,  519867.5 ,  289739.66,  621626.56,\n",
       "        289739.66,  289739.66,  289739.66,  289739.66,  289739.66,\n",
       "        289739.66,  258426.88,  313394.66,  289739.66,  289739.66,\n",
       "        243052.31,  261494.48,  546004.1 ,  289739.66,  289739.66,\n",
       "        243052.31,  289739.66,  723149.5 ,  870101.8 ,  401020.38,\n",
       "        313394.66,  621626.56,  289739.66,  424844.1 ,  401020.38,\n",
       "        243052.31,  261494.48,  401020.38,  289739.66,  401020.38,\n",
       "        289739.66,  621626.56, 1489929.8 ,  289739.66,  261494.48,\n",
       "        258426.88,  289739.66,  325131.4 ,  289739.66,  301742.97,\n",
       "        289739.66,  249262.31,  774864.25,  289739.66,  289739.66,\n",
       "        621626.56,  313394.66,  243052.31,  289739.66,  313394.66,\n",
       "        325131.4 ,  289739.66,  662669.7 ,  232604.4 ,  289739.66,\n",
       "        289739.66,  258426.88,  289739.66,  289739.66,  232604.4 ,\n",
       "        289739.66,  289739.66,  243052.31,  401020.38,  302794.06,\n",
       "        289739.66,  401020.38,  289739.66,  870101.8 ,  243052.31,\n",
       "        519867.5 ,  302794.06,  424844.1 ,  201588.12,  285301.03,\n",
       "        313394.66,  289739.66,  621626.56,  519867.5 ,  289739.66,\n",
       "        243052.31,  313394.66,  313394.66,  325131.4 ,  258426.88,\n",
       "        289739.66,  258426.88,  479829.38,  723149.5 ,  243052.31,\n",
       "        243052.31,  424844.1 ,  243052.31,  243052.31,  289739.66,\n",
       "        401020.38,  289739.66,  258426.88,  289739.66,  289739.66,\n",
       "        289739.66,  289739.66,  289739.66,  279524.06,  232604.4 ,\n",
       "        232604.4 ,  302794.06,  492978.53,  232604.4 ,  249262.31,\n",
       "        289739.66,  238224.64,  289739.66,  232604.4 ,  201588.12,\n",
       "        258426.88,  289739.66,  289739.66,  424844.1 ,  482131.34,\n",
       "        302794.06,  723149.5 ,  519867.5 ,  313394.66,  621626.56,\n",
       "        243052.31,  325131.4 ,  519867.5 ,  285301.03,  400369.12,\n",
       "        261494.48,  289739.66,  301742.97,  289739.66,  313394.66,\n",
       "        519867.5 ,  232604.4 ,  870101.8 ,  302794.06,  313394.66,\n",
       "        289739.66,  289739.66,  243052.31, 1529522.6 ,  815198.3 ,\n",
       "        282913.28,  424844.1 ,  289739.66,  258426.88,  289739.66,\n",
       "        243052.31,  243052.31,  258426.88,  302794.06,  313357.12,\n",
       "        289739.66,  289739.66,  302794.06,  302794.06,  519867.5 ,\n",
       "        870101.8 ,  258426.88,  723149.5 ,  289739.66,  261494.48,\n",
       "        621626.56,  249262.31,  232604.4 ,  289739.66,  621626.56,\n",
       "        723149.5 ,  723149.5 ,  243052.31,  243052.31,  261494.48,\n",
       "        723149.5 ,  243052.31,  905912.9 ,  356520.97,  243052.31,\n",
       "        774707.44,  313394.66,  232604.4 ,  325131.4 ,  258426.88,\n",
       "        289739.66,  243052.31,  249262.31,  289739.66,  289739.66,\n",
       "        302794.06,  313357.12, 2650022.8 ,  289739.66,  289739.66,\n",
       "        313394.66,  243052.31,  289739.66,  313394.66,  289739.66,\n",
       "        289739.66,  243052.31,  313394.66,  723149.5 ,  401020.38,\n",
       "        289739.66,  258426.88,  289739.66,  313394.66,  243052.31,\n",
       "        815198.3 ,  870101.8 ,  313394.66,  313394.66,  289739.66,\n",
       "        289739.66,  313394.66,  243052.31,  289739.66,  313394.66,\n",
       "        289739.66,  302794.06,  870101.8 ,  285301.03,  289739.66,\n",
       "        243052.31,  519867.5 ,  289739.66,  289739.66,  243052.31,\n",
       "        815198.3 ,  313394.66,  243052.31,  621626.56,  289739.66,\n",
       "        621626.56,  313394.66,  232604.4 ,  302794.06,  243052.31,\n",
       "        621626.56,  243052.31,  519867.5 ,  243052.31,  325131.4 ,\n",
       "        621626.56,  243052.31,  916005.25,  313394.66,  289739.66,\n",
       "        621626.56,  302794.06, 1489929.8 ,  289739.66,  313394.66,\n",
       "        313394.66,  232604.4 ,  289739.66,  243052.31,  243052.31,\n",
       "        289739.66,  723149.5 ,  299762.84,  289739.66,  232604.4 ,\n",
       "        313357.12,  289739.66,  313394.66,  285301.03,  318145.03,\n",
       "        289739.66,  723149.5 ,  289739.66,  243052.31,  815198.3 ,\n",
       "        302794.06,  289739.66,  621626.56,  258426.88,  285301.03,\n",
       "        289739.66,  289739.66,  313394.66,  289739.66,  325131.4 ,\n",
       "        289739.66,  289739.66,  313394.66,  243052.31,  285301.03,\n",
       "        815198.3 ,  232604.4 ,  519867.5 ,  424844.1 ,  243052.31,\n",
       "        289739.66,  289739.66,  621626.56,   94259.8 ,  313394.66,\n",
       "        313394.66,  325131.4 ,  325131.4 ,  289739.66,  243052.31,\n",
       "        519867.5 ,  621626.56,  313394.66,  325131.4 ,  289739.66,\n",
       "        289739.66,  195146.62,  289739.66,  318145.03,  285301.03,\n",
       "        424844.1 ,  325131.4 ,  424844.1 , 1192002.5 ,  289739.66,\n",
       "        243052.31,  232604.4 ,  424844.1 ,  285301.03,  289739.66,\n",
       "        621626.56,  289739.66,  289739.66,  289739.66,  313357.12,\n",
       "        289739.66,  289739.66,  249262.31,  289739.66,  289739.66,\n",
       "        289739.66,  774707.44,  815198.3 ,  289739.66,  842386.94,\n",
       "        621626.56,  289739.66,  249262.31,  201588.12,  289739.66,\n",
       "        285301.03,  302794.06,  289739.66,  313357.12,  232604.4 ,\n",
       "        258426.88,  302794.06,  243052.31,  289739.66, 2316084.5 ,\n",
       "        289739.66,  243052.31,  289739.66,  289739.66,  289739.66,\n",
       "        289739.66,  258426.88,  289739.66,  289739.66,  243052.31,\n",
       "        302794.06,  302794.06,  289739.66,  592843.2 ,  289739.66,\n",
       "        289739.66,  289739.66,  289739.66,  421658.66,  289739.66,\n",
       "        774864.25,  313394.66,  243052.31,  289739.66,  289739.66,\n",
       "        258426.88,  243052.31,  313394.66,  285301.03,  289739.66,\n",
       "        289739.66,  201588.12,  318145.03,  289739.66,  289739.66,\n",
       "        289739.66,  621626.56,  424844.1 ,  621626.56,  621626.56,\n",
       "        289739.66,  289739.66,  289739.66,  289739.66,  313394.66,\n",
       "        815198.3 ,  313394.66,  621626.56,  249262.31,  313394.66,\n",
       "        424844.1 ,  302794.06,  424844.1 ,  289739.66,  313394.66,\n",
       "        289739.66,  289739.66,  289739.66,  243052.31,  289739.66,\n",
       "        302794.06,  313394.66,  201588.12,  289739.66,  249262.31,\n",
       "        258426.88,  325131.4 ,  546004.1 ,  289739.66,  243052.31,\n",
       "        289739.66,  289739.66,  243052.31,  325131.4 ,  289739.66,\n",
       "        313357.12,  258426.88,  325131.4 ,  289739.66,  302794.06,\n",
       "        258426.88,  302794.06,  815198.3 ,  313394.66,  424844.1 ,\n",
       "        424844.1 ,  289739.66,  243052.31], dtype=float32)"
      ]
     },
     "execution_count": 327,
     "metadata": {},
     "output_type": "execute_result"
    }
   ],
   "source": [
    "y_pred=xg_reg.predict(X_test)\n",
    "y_pred"
   ]
  },
  {
   "cell_type": "code",
   "execution_count": 328,
   "metadata": {},
   "outputs": [
    {
     "name": "stdout",
     "output_type": "stream",
     "text": [
      "MSE: 58367714693.30\n"
     ]
    }
   ],
   "source": [
    "from sklearn.metrics import mean_squared_error\n",
    "\n",
    "mse=mean_squared_error(y_test,y_pred)\n",
    "print('MSE: %0.2f' %(mse))"
   ]
  },
  {
   "cell_type": "code",
   "execution_count": 329,
   "metadata": {},
   "outputs": [
    {
     "data": {
      "text/plain": [
       "241594.11146239343"
      ]
     },
     "execution_count": 329,
     "metadata": {},
     "output_type": "execute_result"
    }
   ],
   "source": [
    "rmse=np.sqrt(mse)\n",
    "rmse"
   ]
  },
  {
   "cell_type": "code",
   "execution_count": 330,
   "metadata": {},
   "outputs": [
    {
     "name": "stdout",
     "output_type": "stream",
     "text": [
      "RMSE: 241594.11\n"
     ]
    }
   ],
   "source": [
    "print('RMSE: %0.2f' %(rmse))"
   ]
  },
  {
   "cell_type": "code",
   "execution_count": 331,
   "metadata": {},
   "outputs": [],
   "source": [
    "from sklearn.model_selection import cross_val_score\n",
    "\n",
    "model = XGBRegressor(objective='reg:squarederror')"
   ]
  },
  {
   "cell_type": "code",
   "execution_count": 332,
   "metadata": {},
   "outputs": [
    {
     "data": {
      "text/plain": [
       "array([-4.65839444e+10, -8.45352027e+10, -5.32805517e+10, -5.57680506e+10,\n",
       "       -7.10766737e+10, -2.79933291e+11, -2.61503829e+10, -3.23635660e+10,\n",
       "       -3.41262822e+10, -6.97092148e+10])"
      ]
     },
     "execution_count": 332,
     "metadata": {},
     "output_type": "execute_result"
    }
   ],
   "source": [
    "scores =cross_val_score(model, X,y, \n",
    "                        scoring=\"neg_mean_squared_error\",\n",
    "                        cv=10)\n",
    "\n",
    "scores"
   ]
  },
  {
   "cell_type": "code",
   "execution_count": 333,
   "metadata": {},
   "outputs": [
    {
     "data": {
      "text/plain": [
       "array([215833.14013934, 290749.38124995, 230825.8037581 , 236152.60019148,\n",
       "       266602.08874957, 529087.22460116, 161710.80014946, 179898.76588384,\n",
       "       184733.00233333, 264025.02688445])"
      ]
     },
     "execution_count": 333,
     "metadata": {},
     "output_type": "execute_result"
    }
   ],
   "source": [
    "rmse = np.sqrt(-scores)\n",
    "\n",
    "rmse"
   ]
  },
  {
   "cell_type": "code",
   "execution_count": 334,
   "metadata": {},
   "outputs": [
    {
     "name": "stdout",
     "output_type": "stream",
     "text": [
      "0.410609358863554\n",
      "0.36416842025374996\n"
     ]
    }
   ],
   "source": [
    "print(xg_reg.score(X_train,y_train))\n",
    "print(xg_reg.score(X_test,y_test))"
   ]
  }
 ],
 "metadata": {
  "kernelspec": {
   "display_name": "data_analysis",
   "language": "python",
   "name": "python3"
  },
  "language_info": {
   "codemirror_mode": {
    "name": "ipython",
    "version": 3
   },
   "file_extension": ".py",
   "mimetype": "text/x-python",
   "name": "python",
   "nbconvert_exporter": "python",
   "pygments_lexer": "ipython3",
   "version": "3.9.6"
  },
  "orig_nbformat": 4
 },
 "nbformat": 4,
 "nbformat_minor": 2
}
